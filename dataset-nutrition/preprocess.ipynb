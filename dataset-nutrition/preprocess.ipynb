{
 "cells": [
  {
   "cell_type": "code",
   "execution_count": 1,
   "metadata": {},
   "outputs": [],
   "source": [
    "import numpy as np\n",
    "import pandas as pd"
   ]
  },
  {
   "cell_type": "code",
   "execution_count": 2,
   "metadata": {},
   "outputs": [],
   "source": [
    "# Load nyemil data\n",
    "df_nyemil = pd.read_csv('nyemil.csv', usecols=['fat', 'sugar', 'sodium'])"
   ]
  },
  {
   "cell_type": "code",
   "execution_count": 3,
   "metadata": {},
   "outputs": [],
   "source": [
    "# Clean nyemil data\n",
    "df_nyemil['fat'] = df_nyemil['fat'].str.replace(' g', '')\n",
    "df_nyemil['sugar'] = df_nyemil['sugar'].str.replace(' g', '')\n",
    "df_nyemil['sodium'] = df_nyemil['sodium'].str.replace(' mg', '')\n",
    "df_nyemil = df_nyemil.apply(lambda x: x.astype(float))\n",
    "df_nyemil['sodium'] = df_nyemil['sodium'] / 1000"
   ]
  },
  {
   "cell_type": "code",
   "execution_count": 4,
   "metadata": {},
   "outputs": [],
   "source": [
    "# Load fatsecret data\n",
    "df_fatsecret = pd.read_csv('fatsecret.csv', usecols=['fat', 'sugar', 'sodium'])"
   ]
  },
  {
   "cell_type": "code",
   "execution_count": 5,
   "metadata": {},
   "outputs": [],
   "source": [
    "# Clean fatsecret data\n",
    "df_fatsecret['fat'] = df_fatsecret['fat'].str.replace('g', '').str.replace(',', '.')\n",
    "df_fatsecret['sugar'] = df_fatsecret['sugar'].str.replace('g', '').str.replace(',', '.')\n",
    "df_fatsecret['sodium'] = df_fatsecret['sodium'].str.replace('mg', '').str.replace(',', '.')\n",
    "df_fatsecret = df_fatsecret.apply(lambda x: x.astype(float))\n",
    "df_fatsecret['sodium'] = df_fatsecret['sodium'] / 1000\n"
   ]
  },
  {
   "cell_type": "code",
   "execution_count": 7,
   "metadata": {},
   "outputs": [],
   "source": [
    "def calculate_grade(row):\n",
    "    nutrient_limits = {\n",
    "        'fat': 67,\n",
    "        'sugar': 50,\n",
    "        'sodium': 5\n",
    "    }\n",
    "\n",
    "    def calculate_nutrient_grade(value, limit):\n",
    "        if value <= limit * 0.1:\n",
    "            return 'A'\n",
    "        elif value <= limit * 0.25:\n",
    "            return 'B'\n",
    "        elif value <= limit * 0.5:\n",
    "            return 'C'\n",
    "        else:\n",
    "            return 'D'\n",
    "\n",
    "    grades = []\n",
    "    for nutrient, limit in nutrient_limits.items():\n",
    "        grade = calculate_nutrient_grade(row[nutrient], limit)\n",
    "        grades.append(grade)\n",
    "\n",
    "    final_grade = min(grades, key=lambda x: ['D', 'C', 'B', 'A'].index(x))\n",
    "    return final_grade"
   ]
  },
  {
   "cell_type": "code",
   "execution_count": 8,
   "metadata": {},
   "outputs": [],
   "source": [
    "df_nyemil['grade'] = df_nyemil.apply(calculate_grade, axis=1)\n",
    "df_fatsecret['grade'] = df_fatsecret.apply(calculate_grade, axis=1)"
   ]
  },
  {
   "cell_type": "code",
   "execution_count": 9,
   "metadata": {},
   "outputs": [],
   "source": [
    "# Merge the two datasets\n",
    "df = pd.concat([df_nyemil, df_fatsecret])"
   ]
  },
  {
   "cell_type": "code",
   "execution_count": 10,
   "metadata": {},
   "outputs": [
    {
     "data": {
      "text/html": [
       "<div>\n",
       "<style scoped>\n",
       "    .dataframe tbody tr th:only-of-type {\n",
       "        vertical-align: middle;\n",
       "    }\n",
       "\n",
       "    .dataframe tbody tr th {\n",
       "        vertical-align: top;\n",
       "    }\n",
       "\n",
       "    .dataframe thead th {\n",
       "        text-align: right;\n",
       "    }\n",
       "</style>\n",
       "<table border=\"1\" class=\"dataframe\">\n",
       "  <thead>\n",
       "    <tr style=\"text-align: right;\">\n",
       "      <th></th>\n",
       "      <th>fat</th>\n",
       "      <th>sugar</th>\n",
       "      <th>sodium</th>\n",
       "      <th>grade</th>\n",
       "    </tr>\n",
       "  </thead>\n",
       "  <tbody>\n",
       "    <tr>\n",
       "      <th>0</th>\n",
       "      <td>9.3</td>\n",
       "      <td>0.0</td>\n",
       "      <td>0.7750</td>\n",
       "      <td>B</td>\n",
       "    </tr>\n",
       "    <tr>\n",
       "      <th>1</th>\n",
       "      <td>14.0</td>\n",
       "      <td>8.0</td>\n",
       "      <td>1.0700</td>\n",
       "      <td>B</td>\n",
       "    </tr>\n",
       "    <tr>\n",
       "      <th>2</th>\n",
       "      <td>3.5</td>\n",
       "      <td>19.0</td>\n",
       "      <td>0.0300</td>\n",
       "      <td>C</td>\n",
       "    </tr>\n",
       "    <tr>\n",
       "      <th>3</th>\n",
       "      <td>21.9</td>\n",
       "      <td>4.9</td>\n",
       "      <td>0.3886</td>\n",
       "      <td>C</td>\n",
       "    </tr>\n",
       "    <tr>\n",
       "      <th>4</th>\n",
       "      <td>43.5</td>\n",
       "      <td>9.7</td>\n",
       "      <td>0.8700</td>\n",
       "      <td>D</td>\n",
       "    </tr>\n",
       "  </tbody>\n",
       "</table>\n",
       "</div>"
      ],
      "text/plain": [
       "    fat  sugar  sodium grade\n",
       "0   9.3    0.0  0.7750     B\n",
       "1  14.0    8.0  1.0700     B\n",
       "2   3.5   19.0  0.0300     C\n",
       "3  21.9    4.9  0.3886     C\n",
       "4  43.5    9.7  0.8700     D"
      ]
     },
     "execution_count": 10,
     "metadata": {},
     "output_type": "execute_result"
    }
   ],
   "source": [
    "df.head()"
   ]
  },
  {
   "cell_type": "code",
   "execution_count": 11,
   "metadata": {},
   "outputs": [
    {
     "name": "stdout",
     "output_type": "stream",
     "text": [
      "grade\n",
      "B    3301\n",
      "A    3291\n",
      "C    1840\n",
      "D     295\n",
      "Name: count, dtype: int64\n"
     ]
    }
   ],
   "source": [
    "print(df['grade'].value_counts())"
   ]
  },
  {
   "cell_type": "code",
   "execution_count": 12,
   "metadata": {},
   "outputs": [
    {
     "name": "stdout",
     "output_type": "stream",
     "text": [
      "<class 'pandas.core.frame.DataFrame'>\n",
      "Index: 8727 entries, 0 to 8443\n",
      "Data columns (total 4 columns):\n",
      " #   Column  Non-Null Count  Dtype  \n",
      "---  ------  --------------  -----  \n",
      " 0   fat     8727 non-null   float64\n",
      " 1   sugar   8727 non-null   float64\n",
      " 2   sodium  8727 non-null   float64\n",
      " 3   grade   8727 non-null   object \n",
      "dtypes: float64(3), object(1)\n",
      "memory usage: 340.9+ KB\n"
     ]
    }
   ],
   "source": [
    "df.info()"
   ]
  },
  {
   "cell_type": "code",
   "execution_count": 16,
   "metadata": {},
   "outputs": [],
   "source": [
    "# Save the merged dataset to a single CSV file\n",
    "df.to_csv('clean_data.csv', index=False, header=True, encoding='utf-8')"
   ]
  }
 ],
 "metadata": {
  "kernelspec": {
   "display_name": ".venv",
   "language": "python",
   "name": "python3"
  },
  "language_info": {
   "codemirror_mode": {
    "name": "ipython",
    "version": 3
   },
   "file_extension": ".py",
   "mimetype": "text/x-python",
   "name": "python",
   "nbconvert_exporter": "python",
   "pygments_lexer": "ipython3",
   "version": "3.11.8"
  }
 },
 "nbformat": 4,
 "nbformat_minor": 2
}
