{
  "nbformat": 4,
  "nbformat_minor": 0,
  "metadata": {
    "colab": {
      "provenance": []
    },
    "kernelspec": {
      "name": "python3",
      "display_name": "Python 3"
    },
    "language_info": {
      "name": "python"
    }
  },
  "cells": [
    {
      "cell_type": "code",
      "execution_count": 1,
      "metadata": {
        "colab": {
          "base_uri": "https://localhost:8080/",
          "height": 550
        },
        "id": "QLTfGLJB3k7z",
        "outputId": "695caf22-e0c2-4cc3-dab6-9ec95b5b80b4"
      },
      "outputs": [
        {
          "output_type": "stream",
          "name": "stdout",
          "text": [
            "Collecting tflite-support\n",
            "  Downloading tflite_support-0.4.4-cp310-cp310-manylinux2014_x86_64.whl (60.8 MB)\n",
            "\u001b[2K     \u001b[90m━━━━━━━━━━━━━━━━━━━━━━━━━━━━━━━━━━━━━━━━\u001b[0m \u001b[32m60.8/60.8 MB\u001b[0m \u001b[31m4.0 MB/s\u001b[0m eta \u001b[36m0:00:00\u001b[0m\n",
            "\u001b[?25hRequirement already satisfied: absl-py>=0.7.0 in /usr/local/lib/python3.10/dist-packages (from tflite-support) (2.1.0)\n",
            "Requirement already satisfied: numpy>=1.20.0 in /usr/local/lib/python3.10/dist-packages (from tflite-support) (1.24.3)\n",
            "Requirement already satisfied: flatbuffers>=2.0 in /usr/local/lib/python3.10/dist-packages (from tflite-support) (24.3.25)\n",
            "Collecting protobuf<4,>=3.18.0 (from tflite-support)\n",
            "  Downloading protobuf-3.20.3-cp310-cp310-manylinux_2_12_x86_64.manylinux2010_x86_64.whl (1.1 MB)\n",
            "\u001b[2K     \u001b[90m━━━━━━━━━━━━━━━━━━━━━━━━━━━━━━━━━━━━━━━━\u001b[0m \u001b[32m1.1/1.1 MB\u001b[0m \u001b[31m4.6 MB/s\u001b[0m eta \u001b[36m0:00:00\u001b[0m\n",
            "\u001b[?25hCollecting sounddevice>=0.4.4 (from tflite-support)\n",
            "  Downloading sounddevice-0.4.7-py3-none-any.whl (32 kB)\n",
            "Collecting pybind11>=2.6.0 (from tflite-support)\n",
            "  Downloading pybind11-2.12.0-py3-none-any.whl (234 kB)\n",
            "\u001b[2K     \u001b[90m━━━━━━━━━━━━━━━━━━━━━━━━━━━━━━━━━━━━━━━━\u001b[0m \u001b[32m235.0/235.0 kB\u001b[0m \u001b[31m3.7 MB/s\u001b[0m eta \u001b[36m0:00:00\u001b[0m\n",
            "\u001b[?25hRequirement already satisfied: CFFI>=1.0 in /usr/local/lib/python3.10/dist-packages (from sounddevice>=0.4.4->tflite-support) (1.16.0)\n",
            "Requirement already satisfied: pycparser in /usr/local/lib/python3.10/dist-packages (from CFFI>=1.0->sounddevice>=0.4.4->tflite-support) (2.22)\n",
            "Installing collected packages: pybind11, protobuf, sounddevice, tflite-support\n",
            "  Attempting uninstall: protobuf\n",
            "    Found existing installation: protobuf 4.25.3\n",
            "    Uninstalling protobuf-4.25.3:\n",
            "      Successfully uninstalled protobuf-4.25.3\n",
            "\u001b[31mERROR: pip's dependency resolver does not currently take into account all the packages that are installed. This behaviour is the source of the following dependency conflicts.\n",
            "tf-keras 2.15.1 requires tensorflow<2.16,>=2.15, but you have tensorflow 2.13.0 which is incompatible.\u001b[0m\u001b[31m\n",
            "\u001b[0mSuccessfully installed protobuf-3.20.3 pybind11-2.12.0 sounddevice-0.4.7 tflite-support-0.4.4\n"
          ]
        },
        {
          "output_type": "display_data",
          "data": {
            "application/vnd.colab-display-data+json": {
              "pip_warning": {
                "packages": [
                  "google"
                ]
              },
              "id": "7565b458cb9e4be0b42e8a9e19f57931"
            }
          },
          "metadata": {}
        }
      ],
      "source": [
        "!pip install tensorflow==2.13.0 --force-reinstall\n",
        "!pip install tflite-support"
      ]
    },
    {
      "cell_type": "code",
      "source": [
        "from tflite_support import metadata_schema_py_generated as _metadata_fb\n",
        "from tensorflow.keras.preprocessing.image import ImageDataGenerator\n",
        "from tflite_support.metadata_writers import writer_utils\n",
        "from sklearn.model_selection import train_test_split\n",
        "from tflite_support import metadata as _metadata\n",
        "from tflite_support import metadata_writers\n",
        "from tflite_support import metadata\n",
        "import flatbuffers\n",
        "import tensorflow as tf\n",
        "import numpy as np\n",
        "import zipfile\n",
        "import shutil\n",
        "import os\n",
        "import io\n"
      ],
      "metadata": {
        "id": "s9ch7fDO3spP"
      },
      "execution_count": 1,
      "outputs": []
    },
    {
      "cell_type": "code",
      "source": [
        "!gdown --id 17qjW3qhjaWSlLZvjMlbeTVi9y7Nx1N9X"
      ],
      "metadata": {
        "colab": {
          "base_uri": "https://localhost:8080/"
        },
        "id": "e2G-6Mex3ulg",
        "outputId": "943e2920-cc1b-4611-d214-7a423a5f2e10"
      },
      "execution_count": 2,
      "outputs": [
        {
          "output_type": "stream",
          "name": "stdout",
          "text": [
            "/usr/local/lib/python3.10/dist-packages/gdown/__main__.py:132: FutureWarning: Option `--id` was deprecated in version 4.3.1 and will be removed in 5.0. You don't need to pass it anymore to use a file ID.\n",
            "  warnings.warn(\n",
            "Downloading...\n",
            "From (original): https://drive.google.com/uc?id=17qjW3qhjaWSlLZvjMlbeTVi9y7Nx1N9X\n",
            "From (redirected): https://drive.google.com/uc?id=17qjW3qhjaWSlLZvjMlbeTVi9y7Nx1N9X&confirm=t&uuid=ef91a0ca-fcc4-486b-bbd5-09aacea29293\n",
            "To: /content/dataset.zip\n",
            "100% 81.0M/81.0M [00:01<00:00, 64.3MB/s]\n"
          ]
        }
      ]
    },
    {
      "cell_type": "code",
      "source": [
        "current_dir = os.getcwd()\n",
        "local_zip = './dataset.zip'\n",
        "zip_ref = zipfile.ZipFile(local_zip, 'r')\n",
        "zip_ref.extractall()\n",
        "zip_ref.close()"
      ],
      "metadata": {
        "id": "FeYAU6Wt3z6M"
      },
      "execution_count": 3,
      "outputs": []
    },
    {
      "cell_type": "code",
      "source": [
        "# Set the dataset folder path\n",
        "dataset_folder = 'dataset'\n",
        "\n",
        "# Get the list of class folders\n",
        "class_folders = [f for f in os.listdir(dataset_folder) if os.path.isdir(os.path.join(dataset_folder, f))]\n",
        "\n",
        "# Create lists to store the image file paths and their corresponding labels\n",
        "image_files = []\n",
        "labels = []\n",
        "\n",
        "# Iterate through each class folder\n",
        "for class_folder in class_folders:\n",
        "    class_folder_path = os.path.join(dataset_folder, class_folder)\n",
        "    image_files_in_class = [os.path.join(class_folder_path, f) for f in os.listdir(class_folder_path) if f.endswith('.jpg')]\n",
        "    image_files.extend(image_files_in_class)\n",
        "    labels.extend([class_folder] * len(image_files_in_class))\n",
        "\n",
        "# Convert the lists to numpy arrays\n",
        "image_files = np.array(image_files)\n",
        "labels = np.array(labels)\n",
        "\n",
        "# Split the data into training and testing sets\n",
        "train_files, test_files, train_labels, test_labels = train_test_split(image_files, labels, test_size=0.3, random_state=42, stratify=labels)\n",
        "\n",
        "# Create train and test folders if they don't exist\n",
        "if not os.path.exists(os.path.join(dataset_folder, 'train')):\n",
        "    os.makedirs(os.path.join(dataset_folder, 'train'))\n",
        "if not os.path.exists(os.path.join(dataset_folder, 'test')):\n",
        "    os.makedirs(os.path.join(dataset_folder, 'test'))\n",
        "\n",
        "# Move images to train and test folders\n",
        "for file in train_files:\n",
        "    class_folder = os.path.basename(os.path.dirname(file))\n",
        "    if not os.path.exists(os.path.join(dataset_folder, 'train', class_folder)):\n",
        "        os.makedirs(os.path.join(dataset_folder, 'train', class_folder))\n",
        "    os.rename(file, os.path.join(dataset_folder, 'train', class_folder, os.path.basename(file)))\n",
        "\n",
        "for file in test_files:\n",
        "    class_folder = os.path.basename(os.path.dirname(file))\n",
        "    if not os.path.exists(os.path.join(dataset_folder, 'test', class_folder)):\n",
        "        os.makedirs(os.path.join(dataset_folder, 'test', class_folder))\n",
        "    os.rename(file, os.path.join(dataset_folder, 'test', class_folder, os.path.basename(file)))"
      ],
      "metadata": {
        "id": "14FBYZVc31xx"
      },
      "execution_count": 4,
      "outputs": []
    },
    {
      "cell_type": "code",
      "source": [
        "train_dir = \"/content/dataset/train\"\n",
        "test_dir = \"/content/dataset/test\"\n",
        "\n",
        "train_datagen = ImageDataGenerator(rescale=1./255)\n",
        "\n",
        "test_datagen = ImageDataGenerator(rescale=1./255)\n",
        "\n",
        "\n",
        "train_generator = train_datagen.flow_from_directory(\n",
        "    train_dir,\n",
        "    target_size=(229, 229),\n",
        "    batch_size=32,\n",
        "    class_mode='categorical'\n",
        ")\n",
        "\n",
        "test_generator = test_datagen.flow_from_directory(\n",
        "    test_dir,\n",
        "    target_size=(229, 229),\n",
        "    batch_size=32,\n",
        "    class_mode='categorical'\n",
        ")"
      ],
      "metadata": {
        "colab": {
          "base_uri": "https://localhost:8080/"
        },
        "id": "1598E30W4BjW",
        "outputId": "21a8539d-c2cb-4cd9-e60e-6ff72b97528c"
      },
      "execution_count": 5,
      "outputs": [
        {
          "output_type": "stream",
          "name": "stdout",
          "text": [
            "Found 339 images belonging to 64 classes.\n",
            "Found 146 images belonging to 64 classes.\n"
          ]
        }
      ]
    },
    {
      "cell_type": "code",
      "source": [
        "classes_train = train_generator.class_indices\n",
        "classes_test = test_generator.class_indices\n",
        "print(\"Training samples:\", train_generator.samples)\n",
        "print(\"Testing samples:\", test_generator.samples)"
      ],
      "metadata": {
        "colab": {
          "base_uri": "https://localhost:8080/"
        },
        "id": "sopWyYC-4DNW",
        "outputId": "f406227c-0b7d-4771-fde8-89bde7c48adb"
      },
      "execution_count": 6,
      "outputs": [
        {
          "output_type": "stream",
          "name": "stdout",
          "text": [
            "Training samples: 339\n",
            "Testing samples: 146\n"
          ]
        }
      ]
    },
    {
      "cell_type": "code",
      "source": [
        "sorted_class_indices = sorted(train_generator.class_indices.items(), key=lambda x: x[1])\n",
        "sorted_class_names = [class_name for class_name, index in sorted_class_indices]\n",
        "\n",
        "labels_path = \"labels.txt\"\n",
        "\n",
        "with open(labels_path, 'w') as f:\n",
        "    for class_name in sorted_class_names:\n",
        "        f.write(class_name + '\\n')\n",
        "\n",
        "print(f\"Labels saved to {labels_path}\")"
      ],
      "metadata": {
        "colab": {
          "base_uri": "https://localhost:8080/"
        },
        "id": "Pvai1_ZN4H0y",
        "outputId": "bfd956bf-a53f-4d23-c783-3673ff057717"
      },
      "execution_count": 7,
      "outputs": [
        {
          "output_type": "stream",
          "name": "stdout",
          "text": [
            "Labels saved to labels.txt\n"
          ]
        }
      ]
    },
    {
      "cell_type": "code",
      "source": [
        "# Paths for the model and label file\n",
        "_MODEL_PATH = \"mobilenetv2_model.tflite\"\n",
        "_LABEL_FILE = \"labels.txt\"\n",
        "_SAVE_TO_PATH = \"mobilenetv2_model_metadata.tflite\"\n",
        "\n",
        "# Normalization parameters for the input image\n",
        "_INPUT_NORM_MEAN = 127.5\n",
        "_INPUT_NORM_STD = 127.5\n",
        "\n",
        "# Create model metadata\n",
        "model_meta = _metadata_fb.ModelMetadataT()\n",
        "model_meta.name = \"MobileNetV2 Gizilo image classifier\"\n",
        "model_meta.description = (\n",
        "    \"Identify branded retail products and make grading for these products \"\n",
        "    \"based on the calculation of nutritional value.\"\n",
        ")\n",
        "model_meta.version = \"v1\"\n",
        "model_meta.author = \"Core Gizilo\"\n",
        "model_meta.license = (\n",
        "    \"Apache License. Version 2.0 \"\n",
        "    \"http://www.apache.org/licenses/LICENSE-2.0.\"\n",
        ")\n",
        "\n",
        "# Create input metadata\n",
        "input_meta = _metadata_fb.TensorMetadataT()\n",
        "input_meta.name = \"image\"\n",
        "input_meta.description = (\n",
        "    \"Input image to be classified. The expected image is 229 x 229, with \"\n",
        "    \"three channels (red, blue, and green) per pixel. Each value in the \"\n",
        "    \"tensor is a single byte between 0 and 255.\"\n",
        ")\n",
        "input_meta.content = _metadata_fb.ContentT()\n",
        "input_meta.content.contentProperties = _metadata_fb.ImagePropertiesT()\n",
        "input_meta.content.contentProperties.colorSpace = _metadata_fb.ColorSpaceType.RGB\n",
        "input_meta.content.contentPropertiesType = _metadata_fb.ContentProperties.ImageProperties\n",
        "\n",
        "input_normalization = _metadata_fb.ProcessUnitT()\n",
        "input_normalization.optionsType = _metadata_fb.ProcessUnitOptions.NormalizationOptions\n",
        "input_normalization.options = _metadata_fb.NormalizationOptionsT()\n",
        "input_normalization.options.mean = [_INPUT_NORM_MEAN]\n",
        "input_normalization.options.std = [_INPUT_NORM_STD]\n",
        "input_meta.processUnits = [input_normalization]\n",
        "\n",
        "input_stats = _metadata_fb.StatsT()\n",
        "input_stats.max = [255]\n",
        "input_stats.min = [0]\n",
        "input_meta.stats = input_stats\n",
        "\n",
        "# Create output metadata\n",
        "output_meta = _metadata_fb.TensorMetadataT()\n",
        "output_meta.name = \"probability\"\n",
        "output_meta.description = \"Probabilities of the labels respectively.\"\n",
        "output_meta.content = _metadata_fb.ContentT()\n",
        "output_meta.content.contentProperties = _metadata_fb.FeaturePropertiesT()\n",
        "output_meta.content.contentPropertiesType = _metadata_fb.ContentProperties.FeatureProperties\n",
        "\n",
        "output_stats = _metadata_fb.StatsT()\n",
        "output_stats.max = [1.0]\n",
        "output_stats.min = [0.0]\n",
        "output_meta.stats = output_stats\n",
        "\n",
        "label_file = _metadata_fb.AssociatedFileT()\n",
        "label_file.name = os.path.basename(_LABEL_FILE)\n",
        "label_file.description = \"Labels for objects that the model can recognize.\"\n",
        "label_file.type = _metadata_fb.AssociatedFileType.TENSOR_AXIS_LABELS\n",
        "output_meta.associatedFiles = [label_file]\n",
        "\n",
        "# Create subgraph metadata\n",
        "subgraph = _metadata_fb.SubGraphMetadataT()\n",
        "subgraph.inputTensorMetadata = [input_meta]\n",
        "subgraph.outputTensorMetadata = [output_meta]\n",
        "model_meta.subgraphMetadata = [subgraph]\n",
        "\n",
        "# Build the flatbuffer\n",
        "b = flatbuffers.Builder(0)\n",
        "b.Finish(\n",
        "    model_meta.Pack(b),\n",
        "    _metadata.MetadataPopulator.METADATA_FILE_IDENTIFIER\n",
        ")\n",
        "metadata_buf = b.Output()\n",
        "\n",
        "# Populate metadata into the model\n",
        "populator = _metadata.MetadataPopulator.with_model_file(_MODEL_PATH)\n",
        "populator.load_metadata_buffer(metadata_buf)\n",
        "populator.load_associated_files([_LABEL_FILE])\n",
        "populator.populate()\n",
        "\n",
        "# Save the model with metadata\n",
        "writer_utils.save_file(writer_utils.load_file(_MODEL_PATH), _SAVE_TO_PATH)\n",
        "\n",
        "# Optionally display metadata\n",
        "displayer = _metadata.MetadataDisplayer.with_model_file(_SAVE_TO_PATH)\n",
        "export_json_file = \"model_metadata.json\"\n",
        "json_file = displayer.get_metadata_json()\n",
        "\n",
        "with open(export_json_file, \"w\") as f:\n",
        "    f.write(json_file)\n",
        "\n",
        "print(f\"Metadata populated and saved to {_SAVE_TO_PATH}\")\n",
        "print(f\"Metadata JSON saved to {export_json_file}\")\n"
      ],
      "metadata": {
        "colab": {
          "base_uri": "https://localhost:8080/"
        },
        "id": "Pms7gt6u4MFp",
        "outputId": "780064e3-11d2-437e-c972-c3c6c3adbe27"
      },
      "execution_count": 8,
      "outputs": [
        {
          "output_type": "stream",
          "name": "stdout",
          "text": [
            "Metadata populated and saved to mobilenetv2_model_metadata.tflite\n",
            "Metadata JSON saved to model_metadata.json\n"
          ]
        }
      ]
    },
    {
      "cell_type": "code",
      "source": [
        "displayer = metadata.MetadataDisplayer.with_model_file(\"mobilenetv2_model_metadata.tflite\")\n",
        "print(\"Metadata populated:\")\n",
        "print(displayer.get_metadata_json())\n",
        "\n",
        "print(\"Associated file(s) populated:\")\n",
        "for file_name in displayer.get_packed_associated_file_list():\n",
        "  print(\"file name: \", file_name)\n",
        "  print(\"file content:\")\n",
        "  print(displayer.get_associated_file_buffer(file_name))\n",
        "with open(\"model_metadata.json\", \"w\") as f:\n",
        "  f.write(displayer.get_metadata_json())"
      ],
      "metadata": {
        "colab": {
          "base_uri": "https://localhost:8080/"
        },
        "id": "FYN-gHzi4XlS",
        "outputId": "93900efd-b05e-4bda-cd0e-3d2d70935889"
      },
      "execution_count": 10,
      "outputs": [
        {
          "output_type": "stream",
          "name": "stdout",
          "text": [
            "Metadata populated:\n",
            "{\n",
            "  \"name\": \"MobileNetV2 Gizilo image classifier\",\n",
            "  \"description\": \"Identify branded retail products and make grading for these products based on the calculation of nutritional value.\",\n",
            "  \"version\": \"v1\",\n",
            "  \"subgraph_metadata\": [\n",
            "    {\n",
            "      \"input_tensor_metadata\": [\n",
            "        {\n",
            "          \"name\": \"image\",\n",
            "          \"description\": \"Input image to be classified. The expected image is 229 x 229, with three channels (red, blue, and green) per pixel. Each value in the tensor is a single byte between 0 and 255.\",\n",
            "          \"content\": {\n",
            "            \"content_properties_type\": \"ImageProperties\",\n",
            "            \"content_properties\": {\n",
            "              \"color_space\": \"RGB\"\n",
            "            }\n",
            "          },\n",
            "          \"process_units\": [\n",
            "            {\n",
            "              \"options_type\": \"NormalizationOptions\",\n",
            "              \"options\": {\n",
            "                \"mean\": [\n",
            "                  127.5\n",
            "                ],\n",
            "                \"std\": [\n",
            "                  127.5\n",
            "                ]\n",
            "              }\n",
            "            }\n",
            "          ],\n",
            "          \"stats\": {\n",
            "            \"max\": [\n",
            "              255.0\n",
            "            ],\n",
            "            \"min\": [\n",
            "              0.0\n",
            "            ]\n",
            "          }\n",
            "        }\n",
            "      ],\n",
            "      \"output_tensor_metadata\": [\n",
            "        {\n",
            "          \"name\": \"probability\",\n",
            "          \"description\": \"Probabilities of the labels respectively.\",\n",
            "          \"content\": {\n",
            "            \"content_properties_type\": \"FeatureProperties\",\n",
            "            \"content_properties\": {\n",
            "            }\n",
            "          },\n",
            "          \"stats\": {\n",
            "            \"max\": [\n",
            "              1.0\n",
            "            ],\n",
            "            \"min\": [\n",
            "              0.0\n",
            "            ]\n",
            "          },\n",
            "          \"associated_files\": [\n",
            "            {\n",
            "              \"name\": \"labels.txt\",\n",
            "              \"description\": \"Labels for objects that the model can recognize.\",\n",
            "              \"type\": \"TENSOR_AXIS_LABELS\"\n",
            "            }\n",
            "          ]\n",
            "        }\n",
            "      ]\n",
            "    }\n",
            "  ],\n",
            "  \"author\": \"Core Gizilo\",\n",
            "  \"license\": \"Apache License. Version 2.0 http://www.apache.org/licenses/LICENSE-2.0.\",\n",
            "  \"min_parser_version\": \"1.0.0\"\n",
            "}\n",
            "\n",
            "Associated file(s) populated:\n",
            "file name:  labels.txt\n",
            "file content:\n",
            "b'Astor Chocolate 40g\\nAstor Matcha 40g\\nBear Brand Susu Steril 189ml\\nBeng-Beng Share It 95g\\nBuavita Apel 245ml\\nBuavita Jambu 245ml\\nBuavita Jeruk 245ml\\nBuavita Korean White Peach 245ml\\nBuavita Leci 245ml\\nBuavita Mangga 245ml\\nChimi Jagung Bakar 50g\\nChitato Lite Rumput Laut 68g\\nCimory Fresh Milk Almond 250ml\\nCimory Fresh Milk Blueberry 250ml\\nCimory Fresh Milk Cashew 250ml\\nCimory Fresh Milk Choco Malt 250ml\\nCimory Fresh Milk Strawberry 250ml\\nCimory Yogurt Drink Blueberry 240ml\\nCimory Yogurt Drink Low Fat Strawberry & Mango 240ml\\nCimory Yogurt Drink Lychee 240ml\\nCimory Yogurt Drink Strawberry 240ml\\nCoca Cola Original 390ml\\nCoca Cola Zero Sugar 390ml\\nFanta Rasa Jeruk 390ml\\nFanta Rasa Stroberi 390ml\\nFrench Fries 2000 62g\\nGaruda Kacang Atom Original 17g\\nHello Panda Chocolate Cream 42g\\nHello Panda Strawberry Cream 42g\\nHydro Coco Original 250ml\\nIndomie Ayam Bawang 69g\\nIndomie Mi Goreng 85g\\nJapota Potato Chips Happy Honey Butter 68g\\nKopi Kenangan Avocuddle 220ml\\nKopi Kenangan Black Aren 220ml\\nMie Sedaap Tasty Bakmi Ayam 129g\\nMilku Stroberi 200ml\\nMilo Original 240ml\\nNescafe Cappuccino 220ml\\nNextar Nastar Pineapple Jam 90g\\nOatside Barista Blend 200ml\\nPocari Sweat 500ml\\nPocky Chocolate 47g\\nRelaxa Barley Mint 125g\\nSari Roti Tawar 370g\\nSelamat Double Chocolate Sandwich Wafer 145g\\nSilver Queen Chunky Bar Almonds 30g\\nSimba Choco Chips 34g\\nSprite 390ml\\nTamarin 108g\\nTeh Botol Original 250ml\\nTeh Kotak Jasmine Tea 300ml\\nTeh Pucuk Harum Less Sugar 500ml\\nTwister Minis Choco 70g\\nUltra Milk Stroberi 250ml\\nUltra Sari Kacang Ijo 250ml\\nWonhae Fried Rose Ramyun 120g\\nYakult 325ml\\nYou C1000 Apple 140ml\\nYou C1000 Lemon 140ml\\nYou C1000 Mango 140ml\\nYou C1000 Orange 140ml\\nYou C1000 Orange Water 500ml\\nYupi Noodles 23g\\n'\n"
          ]
        }
      ]
    }
  ]
}